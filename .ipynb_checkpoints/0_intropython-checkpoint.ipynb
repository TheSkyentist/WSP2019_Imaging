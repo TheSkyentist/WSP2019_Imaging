{
 "cells": [
  {
   "cell_type": "markdown",
   "metadata": {},
   "source": [
    "# Introduction to Python Programming\n",
    "\n",
    "\n",
    "Before we dive into learning about imaging, you should learn the basics of programming in Python.\n",
    "<br><br>\n",
    "Python is an incredibly powerful programming language commonly used across much of academia and industry.  There are packages people have written for every possible application, and we hope that this will not be your last encounter with it. Many people agree that it is an ideal first programming language, so here we are!"
   ]
  },
  {
   "cell_type": "markdown",
   "metadata": {},
   "source": [
    "## A quick introduction to jupter notebooks\n",
    "\n",
    "Welcome to jupyter notebooks! This is an easy visual way to interact with lots of code. If you're curious about what goes into making programs like these work, you can view everything in the file ```programcode.ipynb ``` \n",
    "\n",
    "Jupyter notebox is built on \"cells\". There are two types of cells. \"Markdown cells\", which have text in them, like the one you are reading right now. Then we have \"code cells\". To run the code in a cell, click in it to select the cell and  either\n",
    "\n",
    "* Press the \"Shift\" and \"Enter\" keys on your keyboard at the same time\n",
    "\n",
    "OR\n",
    "\n",
    "* Press the \"Run\" icon ▶| in the toolbar above \n",
    "\n",
    "Try that with this cell below:"
   ]
  },
  {
   "cell_type": "code",
   "execution_count": 1,
   "metadata": {},
   "outputs": [
    {
     "name": "stdout",
     "output_type": "stream",
     "text": [
      "Hello World\n"
     ]
    }
   ],
   "source": [
    "# By the way, a pound sign at the front of a line indicates a comment.  \n",
    "# You can put anything in a comment and Python will ignore it when it runs.\n",
    "# This is useful for me to give you hints and for you to comment out code that you don't want to use.  \n",
    "# Take it from my personal experience: comment out working code that you don't want to run instead of deleting it. \n",
    "# Far better to have it and not use it than wonder how you fixed your problem the last time you encountered it.\n",
    "\n",
    "# Below is an example of a function, print(), and an input 'Hello World'\n",
    "# The print function takes an input and spits it back at you. \n",
    "print('Hello World')"
   ]
  },
  {
   "cell_type": "markdown",
   "metadata": {},
   "source": [
    "As we can see, the result from a code cell gets printed right below the cell. This is how we will examine and interpret our results!\n",
    "\n",
    "This is a great way to interact with code. You can leave yourself notes, explain in great detail what you are doing, and even write paragraphs of easily readible texts for others who might look at your code. "
   ]
  },
  {
   "cell_type": "markdown",
   "metadata": {},
   "source": [
    "## Importing Packages\n",
    "The first thing we have to do in Python is to import the packages we want to use.  The most common packages used are NumPy, a mathematics package, and Matplotlib, a plotting package, and we will want them imported.\n",
    "\n",
    "There are all sorts of packages in Python. Some created by Python Developers, but many created by other professionals. They are made available online and they can be downloaded relatively easily. "
   ]
  },
  {
   "cell_type": "markdown",
   "metadata": {},
   "source": [
    "You should run the code in the cell below, and all future cells, by clicking on it and then pressing `Ctrl+Enter`.  Save your work by pressing `Ctrl+s`."
   ]
  },
  {
   "cell_type": "code",
   "execution_count": 2,
   "metadata": {
    "collapsed": true
   },
   "outputs": [],
   "source": [
    "from numpy import * # this imports all subroutines from the NumPy package\n",
    "from matplotlib.pyplot import * # this also imports things from Matplotlib.\n",
    "\n",
    "# If we want to plot things in a Jupyter notebook, we need to make sure that the plots we make are displayed inline.\n",
    "# Don't use this if you are not using a Jupyter notebook or some other iPython environment.\n",
    "%matplotlib inline"
   ]
  },
  {
   "cell_type": "markdown",
   "metadata": {},
   "source": [
    "## Creating Variables\n",
    "One of the fundamentals of programming is declaring variables.  Variables have to have a \"type\", such as integer numbers, floating point numbers, or strings, and any programming language will treat different variable types differently.  Python makes it easy on us and tries to interpret what we mean; however, we have to be smarter than our programming language!\n",
    "\n",
    "\n",
    "The first data type is an _integer_.  An integer is any positive or negative whole number (no decimal places).  In computer science, any arithmetic operation with two integers will create another integer.  For instance, in integer math, $5\\div2=2$.  This operation takes the decimal result of $2.5$ and truncates (it does _not_ round) to the nearest whole number.  Similarly, $5\\div-3=-1$ even though any calculator will give you the result of $-1.667$.  \n",
    "The big caveat is, though, that Python 3 (which we are using) treats integers as floats for arithmetic, so everything I explained doesn't apply. If you ever use another computer language, though, this will be a problem.  Don't fall into the habit, as it will be nearly impossible to break!\n",
    "\n",
    "\n",
    "The second data type you should know is a _float_.  This is any number that has a decimal, such as $1.0$, $-362.278$, or $9.4\\textrm{E}9$ (9.4 billion). Floats work exactly the way you would expect in normal arithmetic.\n",
    "\n",
    "\n",
    "The final important datatype is the _string_.  This is any set of letters, numbers, or symbols you want it to be.  In Python, strings are created by placing apostrophes or quotation marks around the string of characters you want, such as `'this_is_my*string!*89234'`.  If you want to write to a file, the data must be a string.\n",
    "\n",
    "\n",
    "To create a variable, we must give it a name and a value.  Variable names can contain any letter or number and underscores.  Do not name your variables after things that are native to the Python programming language, such as '`list`', '`set`', '`float`', '`int`', '`if`', '`for`', '`and`', etc.  You'll know that it is a special word if, when you type it on a new line, it highlights in a different color.\n",
    "\n",
    "\n"
   ]
  },
  {
   "cell_type": "code",
   "execution_count": 3,
   "metadata": {},
   "outputs": [
    {
     "name": "stdout",
     "output_type": "stream",
     "text": [
      "(1, <type 'int'>)\n",
      "(1.0, <type 'float'>)\n",
      "('1', <type 'str'>)\n"
     ]
    }
   ],
   "source": [
    "list # this is highlighted in a different color, so it is a native type to Python\n",
    "\n",
    "my_variable1 = 1   # this is an integer number\n",
    "\n",
    "my_variable2 = 1.0 # this is a float\n",
    "\n",
    "my_variable3 = \"1\" # this is a string\n",
    "\n",
    "my_variable3 = '1' # this is also a string\n",
    "\n",
    "# We can also output information so we can read it using the print() command\n",
    "# The type() command prints the data type of the variable\n",
    "print(my_variable1, type(my_variable1))\n",
    "print(my_variable2, type(my_variable2))\n",
    "print(my_variable3, type(my_variable3))"
   ]
  },
  {
   "cell_type": "markdown",
   "metadata": {
    "collapsed": true
   },
   "source": [
    "We can also reassign variables by just redefining the value."
   ]
  },
  {
   "cell_type": "code",
   "execution_count": 4,
   "metadata": {},
   "outputs": [
    {
     "name": "stdout",
     "output_type": "stream",
     "text": [
      "('1', <type 'str'>)\n",
      "(1.0, <type 'float'>)\n"
     ]
    }
   ],
   "source": [
    "print(my_variable3, type(my_variable3))\n",
    "\n",
    "my_variable3 = 1.0 # it was a string, now it is a float\n",
    "\n",
    "print(my_variable3, type(my_variable3))"
   ]
  },
  {
   "cell_type": "markdown",
   "metadata": {},
   "source": [
    "## Math in Python\n",
    "\n",
    "We can do any algebra in Python in a very similar manner to how you would do it on pen and paper. Below are some examples."
   ]
  },
  {
   "cell_type": "code",
   "execution_count": 5,
   "metadata": {},
   "outputs": [
    {
     "name": "stdout",
     "output_type": "stream",
     "text": [
      "('x+y=', 5.0)\n",
      "('x*y=', 6.0)\n",
      "('y/x=', 1.5)\n",
      "('z+10=', 11.5)\n"
     ]
    }
   ],
   "source": [
    "# First, we have to define the variables that we're using.  Note that they're floats!\n",
    "x = 2.\n",
    "y = 3.\n",
    "\n",
    "z = x + y\n",
    "print('x+y=',z) # you can also print strings with the print() statement\n",
    "\n",
    "z = x * y\n",
    "print('x*y=',z)\n",
    "\n",
    "z = y / x\n",
    "print('y/x=',z)\n",
    "\n",
    "# A helpful trick is that you can modify a variable in place without creating a new copy\n",
    "z = z + 10\n",
    "print(\"z+10=\",z)"
   ]
  },
  {
   "cell_type": "code",
   "execution_count": 6,
   "metadata": {},
   "outputs": [
    {
     "name": "stdout",
     "output_type": "stream",
     "text": [
      "('right:', 0.2)\n",
      "('wrong:', 5.0)\n"
     ]
    }
   ],
   "source": [
    "# We can do more complicated operations. Remember your parentheses to ensure operations are done in the right order!\n",
    "# Here, I want to divide the quantity y-x by the quantity x+y. For given values of x and y, the right answer is 0.2\n",
    "z = (y-x)/(x+y)\n",
    "print('right:',z)\n",
    "\n",
    "# This is the WRONG WAY\n",
    "z = y-x / x+y # this simplifies to y-1+y, which is not what we're trying to solve\n",
    "print('wrong:',z)"
   ]
  },
  {
   "cell_type": "code",
   "execution_count": 7,
   "metadata": {},
   "outputs": [
    {
     "name": "stdout",
     "output_type": "stream",
     "text": [
      "('x^2=', 4.0)\n",
      "('x^1/2=', 1.4142135623730951)\n",
      "('sqrt(x)=', 1.4142135623730951)\n",
      "(3.141592653589793, 2.718281828459045)\n"
     ]
    }
   ],
   "source": [
    "# In Python, powers (squared, cubed, etc.) are achieved by using **.\n",
    "\n",
    "z = x**2. # x^2\n",
    "print('x^2=',z)\n",
    "z = x**(1./2.) # equivalent to the square root of x\n",
    "print('x^1/2=',z)\n",
    "\n",
    "# We can also use built-in NumPy functions to do these things\n",
    "# Things like sin, cos, and log10 are also defined.  If you want to use it, it probably exists.\n",
    "z = sqrt(x) # also the square root of x\n",
    "print('sqrt(x)=',z)\n",
    "\n",
    "# There are also some built-in variables that are really helpful, such as pi, e, etc.\n",
    "print(pi,e)"
   ]
  },
  {
   "cell_type": "markdown",
   "metadata": {},
   "source": [
    "## Now you\n",
    "Given what you now know, I'm going to give you a challenge.  Code up the following equation in the box below:\n",
    "$$ z=\\frac{x^2+\\frac{3x+12}{x^2+6x-4}}{\\sqrt[3]{x}} $$\n",
    "Use the value $x=8$. If your code is correct, you should get $z=32.16667$.\n",
    "\n",
    "(Hint: if you click by a parenthesis, it will illuminate its partner)."
   ]
  },
  {
   "cell_type": "code",
   "execution_count": 9,
   "metadata": {},
   "outputs": [
    {
     "name": "stdout",
     "output_type": "stream",
     "text": [
      "('z = ', 32.166666666666664)\n"
     ]
    }
   ],
   "source": [
    "x = 8.\n",
    "z = (x**2 + (3*x+12)/(x**2+6*x-4))/(x**(1./3.))\n",
    "print('z = ', z)"
   ]
  },
  {
   "cell_type": "markdown",
   "metadata": {},
   "source": [
    "## For Loops\n",
    "\n",
    "A very powerful tool for many situations is the `for loop`.  For instance, if I were to say, \"For each person in your group, say your name,\" you would, one at a time, go around and say your name.  A for loop is the same thing: for each thing in the collection you are interested in, do something.\n",
    "\n",
    "If we want to loop over many items, we need to find a  variable that holds more than one integer, float, or string.  The basic container in Python is called a `list`.  \n",
    "\n",
    "Below are examples of lists and for loops."
   ]
  },
  {
   "cell_type": "code",
   "execution_count": 10,
   "metadata": {},
   "outputs": [
    {
     "name": "stdout",
     "output_type": "stream",
     "text": [
      "(1, 18, -12, 34)\n",
      "('Navy', 'Marines', 'Coast Guard')\n",
      "[1, 18, -12, 34, 'Air Force', 'Army', 'Coast Guard', 'Marines', 'Navy']\n"
     ]
    }
   ],
   "source": [
    "# First, we need a list.  A list is surrounded by brackets [], and each value is separated by a comma. A list can\n",
    "# contain any data type we want\n",
    "numbers = [1,18,-12,34]\n",
    "branches = ['Air Force','Army','Coast Guard','Marines','Navy'] # It's alphabetical. No favoritism here...\n",
    "\n",
    "# We can use an index from 0 to N-1 to access the individual elements of a list or array\n",
    "print(numbers[0],numbers[1],numbers[2],numbers[3])\n",
    "# Or, we can access them backwards using negative indexes -1, -2, -3, etc\n",
    "print(branches[-1],branches[-2],branches[-3])\n",
    "\n",
    "# You can add two lists together; it will concatenate, or add, the second on to the end of the first\n",
    "foo = numbers+branches\n",
    "print(foo)"
   ]
  },
  {
   "cell_type": "code",
   "execution_count": 11,
   "metadata": {},
   "outputs": [
    {
     "name": "stdout",
     "output_type": "stream",
     "text": [
      "Air Force\n",
      "Army\n",
      "Coast Guard\n",
      "Marines\n",
      "Navy\n",
      "Finished my first loop!\n"
     ]
    }
   ],
   "source": [
    "# Next, our for loop. Python for loops are written just like you would say them in English.  The code in the \n",
    "# for loop is indented by a few spaces.  The loop will be performed on the list in order.\n",
    "for item in branches:\n",
    "    print(item)\n",
    "    \n",
    "# To back out of the loop such that new code won't be in the loop, just un-indent the next piece of code\n",
    "print(\"Finished my first loop!\")"
   ]
  },
  {
   "cell_type": "code",
   "execution_count": 12,
   "metadata": {},
   "outputs": [
    {
     "name": "stdout",
     "output_type": "stream",
     "text": [
      "0\n",
      "1\n",
      "2\n",
      "3\n",
      "4\n",
      "5\n",
      "6\n",
      "7\n",
      "8\n",
      "9\n",
      "()\n",
      "[0]\n",
      "[0, 1]\n",
      "[0, 1, 2]\n",
      "[0, 1, 2, 3]\n",
      "[0, 1, 2, 3, 4]\n",
      "[0, 1, 2, 3, 4, 5]\n",
      "[0, 1, 2, 3, 4, 5, 6]\n",
      "[0, 1, 2, 3, 4, 5, 6, 7]\n",
      "[0, 1, 2, 3, 4, 5, 6, 7, 8]\n",
      "[0, 1, 2, 3, 4, 5, 6, 7, 8, 9]\n"
     ]
    }
   ],
   "source": [
    " # Next, I'll introduce you to a handy function: range(N).  range(N) will give you a list of N integers from 0 \n",
    "# to N-1 and is particularly handy in for loops.\n",
    "for item in range(10):\n",
    "    print(item)\n",
    "\n",
    "# This adds a new line so we can differentiate the output    \n",
    "print()\n",
    "\n",
    "# We can do more than print in a for loop.  For instance, if I wanted to make a new list and add a new item to \n",
    "# it every time, I could do the following.\n",
    "new_list = [] # create a blank list that has no items in it\n",
    "for item in range(10):\n",
    "    new_list = new_list + [item] # You have to make item into a list (put it in brackets) in order to add it to new_list\n",
    "    print(new_list) # each time, new_list gets longer by 1"
   ]
  },
  {
   "cell_type": "markdown",
   "metadata": {},
   "source": [
    "## Now you\n",
    "In the box below, create two new lists of whatever you want.  Then, use a for loop to add the two lists together.  Yes, I know that you can just add them, but practice your loops!"
   ]
  },
  {
   "cell_type": "code",
   "execution_count": null,
   "metadata": {
    "collapsed": true
   },
   "outputs": [],
   "source": []
  },
  {
   "cell_type": "markdown",
   "metadata": {},
   "source": [
    "## Conditional statements\n",
    "\n",
    "One of the major tools in computer science is the `if-else` statement.  Much like in real life, conditionals allow you to decide what you want to do in different situations.  If the conditional in the if statement is true, you will execute the code in the if statement.  If not, it will go on to the else statement\n",
    "\n",
    "There are several conditionals you can use to filter your decisions. Here are the major ones:\n",
    "- Equivalent to (==): If two things are exactly the same, this will be true. \n",
    "- Not equivalent to (!=): If two things are not exactly the same, this will be true.\n",
    "- Less than (<): If one number or variable is less than the other, this is true.\n",
    "- Greater than (>): If one number or variable is greater than the other, this is true. \n",
    "- Less than or equal to (<=) or greater than or equal to (>=): This checks if something is bigger or equal to (or smaller than or equal to) another variable."
   ]
  },
  {
   "cell_type": "code",
   "execution_count": 13,
   "metadata": {},
   "outputs": [
    {
     "name": "stdout",
     "output_type": "stream",
     "text": [
      "False\n",
      "True\n",
      "True\n",
      "True\n",
      "False\n"
     ]
    }
   ],
   "source": [
    "# Here's an example of conditional statements at work:\n",
    "\n",
    "x = 10\n",
    "print(x==1)  # returns False\n",
    "print(x!=1)  # returns True\n",
    "print(x<100) # returns True\n",
    "print(x>=10) # returns True\n",
    "print(x>10)  # returns False"
   ]
  },
  {
   "cell_type": "code",
   "execution_count": 14,
   "metadata": {},
   "outputs": [
    {
     "name": "stdout",
     "output_type": "stream",
     "text": [
      "('dog', 'says woof')\n",
      "('cat', 'says chirp')\n",
      "('love bird', 'says chirp')\n",
      "('finch', 'says chirp')\n",
      "('parrot', 'says chirp')\n"
     ]
    }
   ],
   "source": [
    "# Now, for if-else statements\n",
    "\n",
    "# I'm going to make a new list\n",
    "animals = ['dog','cat','love bird','finch','parrot']\n",
    "\n",
    "# I'm going to iterate over my list with a for loop and decide what to do in the different cases. \n",
    "# As with a for loop, the code inside the if statement is indented\n",
    "# In this code, it checks if the pet is a dog, and if it isn't, it executes the code in the else clause.\n",
    "for pet in animals:\n",
    "    if pet == 'dog': \n",
    "        print(pet,\"says woof\")\n",
    "    else:\n",
    "        print(pet,\"says chirp\")"
   ]
  },
  {
   "cell_type": "code",
   "execution_count": 15,
   "metadata": {},
   "outputs": [
    {
     "name": "stdout",
     "output_type": "stream",
     "text": [
      "('dog', 'says woof')\n",
      "('cat', 'says meow')\n",
      "('love bird', 'says chirp')\n",
      "('finch', 'says chirp')\n",
      "('parrot', 'says chirp')\n"
     ]
    }
   ],
   "source": [
    "# Wait! Cat's don't chirp.  We can define multiple conditionals using the else-if (elif) syntax\n",
    "# Elif lets you have a second option in the code (or third, or fourth; you can have as many as you want).\n",
    "# As an example, in the real world, say I want to go grocery shopping.  I might say\n",
    "#    If Trader Joe's is open, then I'll shop there                      (If)\n",
    "#    If Trader Joe's is not open, but Sprouts is open, I'll shop there  (Elif)\n",
    "#    Otherwise, if neither is open, I'll shop at Fry's                  (Else)\n",
    "# In this code, it first checks if pet is a dog, then if it is a cat, and finally, if it isn't either of those,\n",
    "# it does what the else clause says.\n",
    "for pet in animals:\n",
    "    if pet == 'dog': \n",
    "        print(pet,\"says woof\")\n",
    "    elif pet == 'cat':\n",
    "        print(pet,\"says meow\")\n",
    "    else:\n",
    "        print(pet,\"says chirp\")"
   ]
  },
  {
   "cell_type": "code",
   "execution_count": 16,
   "metadata": {},
   "outputs": [
    {
     "name": "stdout",
     "output_type": "stream",
     "text": [
      "0\n",
      "0\n",
      "5\n",
      "10\n",
      "10\n",
      "15\n"
     ]
    }
   ],
   "source": [
    "# If you don't use elif, but rather just use multiple statements, the conditional will be checked every time, \n",
    "# which may or may not be what you want.\n",
    "# If we want to print numbers up to 20 divisible by both 5 and 10, we can do the following\n",
    "for i in range(20):\n",
    "    # Here, I'm using the modulo operator, which gives the remainder of a division operation.  \n",
    "    # For instance, 10/5=2 with a remainder of 0, so 10%5=0 because 5 divides 10 evenly.  \n",
    "    # However, 10/3=3 with a remainder of 1, so  10%3=1 because there would be 1 left over \n",
    "    # after the nearest smaller whole multiple of 3 is found.\n",
    "    if i%5 == 0:  # this asks if the number is exactly divisible by five\n",
    "        print(i)\n",
    "    if i%10 == 0:\n",
    "        print(i)"
   ]
  },
  {
   "cell_type": "code",
   "execution_count": 17,
   "metadata": {},
   "outputs": [
    {
     "name": "stdout",
     "output_type": "stream",
     "text": [
      "0\n",
      "5\n",
      "10\n",
      "15\n"
     ]
    }
   ],
   "source": [
    "# Hey! The previous for loop printed 0 and 10 twice-- that's because BOTH if statements were satisfied.  If we \n",
    "# only want one copy of each number printed, we need to do the following:\n",
    "for i in range(20):\n",
    "    if i%5 == 0:  \n",
    "        print(i)\n",
    "    elif i%10 == 0:\n",
    "        print(i)"
   ]
  },
  {
   "cell_type": "markdown",
   "metadata": {},
   "source": [
    "## Now you\n",
    "My next challenge to you is to use what you've learned to create three sums in _one single_ loop (no running the loop three times!).  I want the sum of all even numbers from 0-100, the sum of all odd numbers from 0-100, and the sum of all numbers divisble by 3 from 0-100.  If you do it correctly, the answer to the first is 2550, the second is 2500, and the third is 1683. Write your code in the box below."
   ]
  },
  {
   "cell_type": "code",
   "execution_count": 19,
   "metadata": {},
   "outputs": [
    {
     "name": "stdout",
     "output_type": "stream",
     "text": [
      "('even sum = ', 2550)\n",
      "('odd sum =', 2500)\n",
      "('divisible by 3 sum = ', 1683)\n"
     ]
    }
   ],
   "source": [
    "oddsum = 0\n",
    "evensum = 0\n",
    "threesum = 0\n",
    "for i in range(101):\n",
    "    if i%2 == 0: evensum += i\n",
    "    if i%2 == 1: oddsum += i\n",
    "    if i%3 == 0: threesum += i\n",
    "        \n",
    "print('even sum = ', evensum)\n",
    "print('odd sum =',oddsum)\n",
    "print('divisible by 3 sum = ',threesum)\n"
   ]
  },
  {
   "cell_type": "markdown",
   "metadata": {
    "collapsed": true
   },
   "source": [
    "## Plotting\n",
    "The last thing that you should know how to do is make a plot.  After all, if we can't present findings, what good are we?"
   ]
  },
  {
   "cell_type": "code",
   "execution_count": 20,
   "metadata": {},
   "outputs": [
    {
     "name": "stdout",
     "output_type": "stream",
     "text": [
      "[ 1  3  5  7  9 11 13 15 17 19]\n"
     ]
    },
    {
     "data": {
      "text/plain": [
       "[<matplotlib.lines.Line2D at 0x10861e410>]"
      ]
     },
     "execution_count": 20,
     "metadata": {},
     "output_type": "execute_result"
    },
    {
     "data": {
      "image/png": "[encoded data removed]",
      "text/plain": [
       "<matplotlib.figure.Figure at 0x1085acb90>"
      ]
     },
     "metadata": {},
     "output_type": "display_data"
    }
   ],
   "source": [
    "# First things first, we need to define our variables\n",
    "\n",
    "x = arange(1,20,2) # arange() is like range, except that we can define a lower bound, upper bound, and step size\n",
    "print(x)\n",
    "# x is now an array, which is like a list, but a little less flexible and only for numbers.  If you want to\n",
    "# convert a list of numbers into an array of numbers--you can do arithmetic on arrays but not on lists-- do\n",
    "x = array(x) # This is an array\n",
    "\n",
    "# We can then use our array of x values to create an array of y variables\n",
    "y = x**2.\n",
    "\n",
    "# The simplest plot is very simple\n",
    "plot(x,y)"
   ]
  },
  {
   "cell_type": "code",
   "execution_count": 21,
   "metadata": {},
   "outputs": [
    {
     "data": {
      "text/plain": [
       "[<matplotlib.lines.Line2D at 0x1087b9b10>]"
      ]
     },
     "execution_count": 21,
     "metadata": {},
     "output_type": "execute_result"
    },
    {
     "data": {
      "image/png": "[encoded data removed]",
      "text/plain": [
       "<matplotlib.figure.Figure at 0x1085c25d0>"
      ]
     },
     "metadata": {},
     "output_type": "display_data"
    }
   ],
   "source": [
    "# We can change colors, linestyles, and symbol markers using keywords\n",
    "# See https://matplotlib.org/api/pyplot_api.html#matplotlib.pyplot.plot for the full list of options\n",
    "plot(x,y,'m-.^')\n",
    "\n",
    "# We can also add axis labels\n",
    "xlabel('x')\n",
    "ylabel('y')\n",
    "\n",
    "# Titles\n",
    "title('Example Plot')\n",
    "\n",
    "# And we can zoom the axes\n",
    "xlim(0,10) # lower, upper x limits\n",
    "ylim(0,100)\n",
    "\n",
    "# We can also overplot a second line\n",
    "z = x**3./2.\n",
    "plot(x,z,'r*-')"
   ]
  },
  {
   "cell_type": "code",
   "execution_count": 22,
   "metadata": {},
   "outputs": [
    {
     "data": {
      "text/plain": [
       "<matplotlib.collections.PathCollection at 0x1089c6290>"
      ]
     },
     "execution_count": 22,
     "metadata": {},
     "output_type": "execute_result"
    },
    {
     "data": {
      "image/png": "[encoded data removed]",
      "text/plain": [
       "<matplotlib.figure.Figure at 0x108671250>"
      ]
     },
     "metadata": {},
     "output_type": "display_data"
    }
   ],
   "source": [
    "# Finally, sometimes you just want a scatter plot instead of a line plot.  Scatter has lots of options that\n",
    "# I'll let you look up yourself\n",
    "scatter(x,y,marker='s',color='g')"
   ]
  },
  {
   "cell_type": "markdown",
   "metadata": {},
   "source": [
    "## Now you\n",
    "Make me a pretty plot of at least two lines with new variables, colors, and symbol markers.  Write your code in the cell below."
   ]
  },
  {
   "cell_type": "code",
   "execution_count": null,
   "metadata": {
    "collapsed": true
   },
   "outputs": [],
   "source": []
  },
  {
   "cell_type": "markdown",
   "metadata": {},
   "source": [
    "Phew!  You've started to learn Python.  If you need help, any of the grad students or Stack Overflow/Google have lots of answers.  Don't be afraid to ask!"
   ]
  }
 ],
 "metadata": {
  "kernelspec": {
   "display_name": "Python 3",
   "language": "python",
   "name": "python3"
  },
  "language_info": {
   "codemirror_mode": {
    "name": "ipython",
    "version": 3
   },
   "file_extension": ".py",
   "mimetype": "text/x-python",
   "name": "python",
   "nbconvert_exporter": "python",
   "pygments_lexer": "ipython3",
   "version": "3.7.3"
  }
 },
 "nbformat": 4,
 "nbformat_minor": 2
}
